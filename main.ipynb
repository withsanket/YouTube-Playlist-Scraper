{
 "cells": [
  {
   "cell_type": "code",
   "execution_count": 1,
   "id": "41e268f5",
   "metadata": {},
   "outputs": [],
   "source": [
    "# !pip install pytube"
   ]
  },
  {
   "cell_type": "code",
   "execution_count": 2,
   "id": "d05601f5",
   "metadata": {},
   "outputs": [
    {
     "name": "stdout",
     "output_type": "stream",
     "text": [
      "Enter Url of Playlist: https://youtube.com/playlist?list=PLeLGx0BaYD6a1GiowNEeTi5mBp7FLGTaH&si=U82tOsNuFGSYNeF-\n"
     ]
    }
   ],
   "source": [
    "from pytube import Playlist, YouTube\n",
    "import pandas as pd\n",
    "\n",
    "p = input(\"Enter Url of Playlist: \")\n",
    "\n",
    "vlinks = Playlist(p)\n",
    "\n",
    "# PlaylistName = vlinks.title\n",
    "# No_of_videos = vlinks.length\n",
    "# Playlist_id = vlinks._playlist_id\n",
    "# Playlist_description = vlinks.description"
   ]
  },
  {
   "cell_type": "code",
   "execution_count": 3,
   "id": "cb47ef5c",
   "metadata": {},
   "outputs": [
    {
     "name": "stdout",
     "output_type": "stream",
     "text": [
      "                                                Title  \\\n",
      "0   Web Scraping for Beginners | Web Scraping an E...   \n",
      "1   Web Scraping for Beginners | Web Scraping an E...   \n",
      "2   Web Scraping using Python | Part - 1 | Data Ga...   \n",
      "3   Web Scraping using Python | Part - 2 | Data Ga...   \n",
      "4   Web Scraping product reviews from Amazon - Par...   \n",
      "5   Web Scraping product reviews from Amazon - Par...   \n",
      "6   LinkedIN Scraping using Python (Selenium) | We...   \n",
      "7         Web Scraping Indeed using Python [Selenium]   \n",
      "8   Web Scraping Real Estate Website using Python ...   \n",
      "9                          Web Scraping for Beginners   \n",
      "10  Gmail Automated Email Sender | Mass Mailing us...   \n",
      "\n",
      "                                           Link  \n",
      "0   https://www.youtube.com/watch?v=cs5xL3ZDPh4  \n",
      "1   https://www.youtube.com/watch?v=A2jaC_QxbvM  \n",
      "2   https://www.youtube.com/watch?v=WTyR1jGmNJs  \n",
      "3   https://www.youtube.com/watch?v=nMV7QxKdN4A  \n",
      "4   https://www.youtube.com/watch?v=tW2GN4kkqlg  \n",
      "5   https://www.youtube.com/watch?v=v2uvS2vrHvM  \n",
      "6   https://www.youtube.com/watch?v=mmCkqq_IX-o  \n",
      "7   https://www.youtube.com/watch?v=QOtjZHYnopk  \n",
      "8   https://www.youtube.com/watch?v=6QwwkGUZ9q4  \n",
      "9   https://www.youtube.com/watch?v=esWoMBasdYA  \n",
      "10  https://www.youtube.com/watch?v=AvsKCjts2A4  \n"
     ]
    }
   ],
   "source": [
    "dict = {\"Title\":[], \"Link\":[]}\n",
    "df = pd.DataFrame(dict)\n",
    "vtitles = []\n",
    "for link in vlinks:\n",
    "    vtitles.append(YouTube(link).title)\n",
    "df['Title'] = vtitles\n",
    "df['Link'] = vlinks\n",
    "print(df)\n",
    "    "
   ]
  },
  {
   "cell_type": "code",
   "execution_count": 4,
   "id": "7ea88e67",
   "metadata": {},
   "outputs": [],
   "source": [
    "df.to_csv(\"Playlist.csv\")"
   ]
  }
 ],
 "metadata": {
  "kernelspec": {
   "display_name": "Python 3 (ipykernel)",
   "language": "python",
   "name": "python3"
  },
  "language_info": {
   "codemirror_mode": {
    "name": "ipython",
    "version": 3
   },
   "file_extension": ".py",
   "mimetype": "text/x-python",
   "name": "python",
   "nbconvert_exporter": "python",
   "pygments_lexer": "ipython3",
   "version": "3.11.5"
  }
 },
 "nbformat": 4,
 "nbformat_minor": 5
}
